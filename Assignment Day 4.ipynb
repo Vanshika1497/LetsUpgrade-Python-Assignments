{
 "cells": [
  {
   "cell_type": "code",
   "execution_count": 1,
   "metadata": {},
   "outputs": [
    {
     "name": "stdout",
     "output_type": "stream",
     "text": [
      "what we think we become; we are Python programmer\n",
      "5\n",
      "14\n",
      "25\n"
     ]
    }
   ],
   "source": [
    "# Find all occurrence of substring in a given string \"what we think we become; we are Python programmer\". Print the index values\n",
    "\n",
    "str = \"what we think we become; we are Python programmer\"\n",
    "print(str)\n",
    "result1 = str.find(\"we\")\n",
    "result2 = str.rfind(\"we\",0,18)\n",
    "result3 = str.rfind(\"we\")\n",
    "print(result1)\n",
    "print(result2)\n",
    "print(result3)"
   ]
  },
  {
   "cell_type": "code",
   "execution_count": 2,
   "metadata": {},
   "outputs": [
    {
     "name": "stdout",
     "output_type": "stream",
     "text": [
      "String islower() method:\n",
      "True\n",
      "True\n",
      "False\n",
      "False\n",
      "String isupper() method:\n",
      "True\n",
      "True\n",
      "False\n",
      "False\n"
     ]
    }
   ],
   "source": [
    "# Explain using islower() and isupper() with different kinds of strings.\n",
    "\n",
    "# islower()\n",
    "print(\"String islower() method:\")\n",
    "str1 = \"python programmer\"\n",
    "print(str1.islower())\n",
    "\n",
    "str2 = \"assignment day 4\"\n",
    "print(str2.islower())\n",
    "\n",
    "str3 = \"Python\"\n",
    "print(str3.islower())\n",
    "\n",
    "str4 = \"LetsUpgrade\"\n",
    "print(str4.islower())\n",
    "\n",
    "\n",
    "# isupper()\n",
    "\n",
    "print(\"String isupper() method:\")\n",
    "str1 = \"PYTHON PROGRAMMER\"\n",
    "print(str1.isupper())\n",
    "\n",
    "str2 = \"ASSIGNMENT DAY 4\"\n",
    "print(str2.isupper())\n",
    "\n",
    "str3 = \"python\"\n",
    "print(str3.isupper())\n",
    "\n",
    "str4 = \"LETSUpgrade\"\n",
    "print(str4.isupper())\n"
   ]
  }
 ],
 "metadata": {
  "kernelspec": {
   "display_name": "Python 3",
   "language": "python",
   "name": "python3"
  },
  "language_info": {
   "codemirror_mode": {
    "name": "ipython",
    "version": 3
   },
   "file_extension": ".py",
   "mimetype": "text/x-python",
   "name": "python",
   "nbconvert_exporter": "python",
   "pygments_lexer": "ipython3",
   "version": "3.7.6"
  }
 },
 "nbformat": 4,
 "nbformat_minor": 4
}
