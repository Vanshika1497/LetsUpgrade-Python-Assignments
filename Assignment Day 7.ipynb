{
 "cells": [
  {
   "cell_type": "code",
   "execution_count": 1,
   "metadata": {},
   "outputs": [
    {
     "name": "stdout",
     "output_type": "stream",
     "text": [
      "{'FTP': 21, 'SSH': 22, 'telnet': 23, 'http': 80}\n"
     ]
    }
   ],
   "source": [
    "# Assignment 1\n",
    "# Use the dictionary Port1 = {21:\"FTP\",22:\"SSH\",23:\"telnet\",80:\"http\"} and make a new dictionary in which keys becomes values\n",
    "# and values becomes keys, as shown Port2 = {'FTP': 21, 'SSH': 22, 'telnet': 23, 'http': 80}\n",
    "\n",
    "port1 = {21:\"FTP\",22:\"SSH\",23:\"telnet\",80:\"http\"}\n",
    "port2 = {}\n",
    "for k, v in port1.items():\n",
    "    port2[v] = k\n",
    "print(port2)"
   ]
  },
  {
   "cell_type": "code",
   "execution_count": 2,
   "metadata": {},
   "outputs": [
    {
     "name": "stdout",
     "output_type": "stream",
     "text": [
      "[3, 7, 11, 9]\n"
     ]
    }
   ],
   "source": [
    "# Assignment 2\n",
    "# Take a list of tuple as shown below : [(1,2), (3,4) , (5,6) , (4,5)]. Make a new list which contains the sum of the number of\n",
    "# tuples. For example - Input [(1,2), (3,4) , (5,6)] and Output [3, 7, 11, 9]\n",
    "\n",
    "tuple_list = [(1,2),(3,4),(5,6),(4,5)]\n",
    "sum_result = [sum(i) for i in tuple_list]\n",
    "print(sum_result)"
   ]
  },
  {
   "cell_type": "code",
   "execution_count": 3,
   "metadata": {},
   "outputs": [
    {
     "name": "stdout",
     "output_type": "stream",
     "text": [
      "[(1, 2, 3), 1, 2, 'a', 'hit', 'less']\n"
     ]
    }
   ],
   "source": [
    "# Assignment 3\n",
    "# Take a list as shown below : [(1,2,3),[1,2],['a','hit','less']]. The list contains tuple and lists. Make the elements of inner\n",
    "# list and tuple to outer list.\n",
    "\n",
    "list = [(1,2,3),[1,2],['a','hit','less']]\n",
    "list1 = []\n",
    "for i in list:\n",
    "    if type(i) == type(list):\n",
    "        list1 = list1+i\n",
    "    else:\n",
    "        list1.append(i)\n",
    "print(list1)"
   ]
  }
 ],
 "metadata": {
  "kernelspec": {
   "display_name": "Python 3",
   "language": "python",
   "name": "python3"
  },
  "language_info": {
   "codemirror_mode": {
    "name": "ipython",
    "version": 3
   },
   "file_extension": ".py",
   "mimetype": "text/x-python",
   "name": "python",
   "nbconvert_exporter": "python",
   "pygments_lexer": "ipython3",
   "version": "3.7.6"
  }
 },
 "nbformat": 4,
 "nbformat_minor": 4
}
