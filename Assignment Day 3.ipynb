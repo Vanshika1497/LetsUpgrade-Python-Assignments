{
 "cells": [
  {
   "cell_type": "code",
   "execution_count": 1,
   "metadata": {},
   "outputs": [
    {
     "name": "stdout",
     "output_type": "stream",
     "text": [
      "1\n",
      "2\n",
      "3\n",
      "4\n",
      "5\n",
      "6\n",
      "7\n",
      "8\n",
      "9\n",
      "10\n",
      "11\n",
      "Sum of a number is: 55\n"
     ]
    }
   ],
   "source": [
    "# Find sum of n numbers with help of while loop.\n",
    "\n",
    "i = 0\n",
    "sum = 0\n",
    "while (i < 11):\n",
    "    sum = sum + i;\n",
    "    i = i + 1\n",
    "    print(i)\n",
    "print(\"Sum of a number is:\",sum)"
   ]
  },
  {
   "cell_type": "code",
   "execution_count": 3,
   "metadata": {},
   "outputs": [
    {
     "name": "stdout",
     "output_type": "stream",
     "text": [
      "enter a number: 13\n",
      "prime number\n"
     ]
    }
   ],
   "source": [
    "# Take an integer and find whether the number is prime or not.\n",
    "\n",
    "num = int(input(\"enter a number: \"))\n",
    "for i in range(2, num):\n",
    "    if num % i  == 0:\n",
    "        print(\"not prime number\")\n",
    "        break\n",
    "else:\n",
    "    print(\"prime number\")"
   ]
  }
 ],
 "metadata": {
  "kernelspec": {
   "display_name": "Python 3",
   "language": "python",
   "name": "python3"
  },
  "language_info": {
   "codemirror_mode": {
    "name": "ipython",
    "version": 3
   },
   "file_extension": ".py",
   "mimetype": "text/x-python",
   "name": "python",
   "nbconvert_exporter": "python",
   "pygments_lexer": "ipython3",
   "version": "3.7.6"
  }
 },
 "nbformat": 4,
 "nbformat_minor": 4
}
